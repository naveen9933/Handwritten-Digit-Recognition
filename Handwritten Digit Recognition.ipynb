{
 "cells": [
  {
   "cell_type": "markdown",
   "id": "035e554d-26ce-493e-aed6-c312c8336275",
   "metadata": {},
   "source": [
    "# <b> Handwritten Digit Recognition </b>"
   ]
  },
  {
   "cell_type": "markdown",
   "id": "faf71827-23e9-4656-b5e0-879f87f39a22",
   "metadata": {},
   "source": [
    "## Importing Necessary Libraries\n",
    "\n",
    "Before we begin, let's import the necessary libraries for our project:\n",
    "\n",
    "- 'numpy' as 'np': For numerical computations.\n",
    "- 'matplotlib.pyplot' as 'plt: For data visualization.\n",
    "- 'tensorflow' as 'tf': For building and training deep learning models.\n"
   ]
  },
  {
   "cell_type": "code",
   "execution_count": 2,
   "id": "b8f15fbb-31ba-4168-b6fa-07c4c7b8b9c9",
   "metadata": {},
   "outputs": [],
   "source": [
    "import numpy as np\n",
    "import matplotlib.pyplot as plt\n",
    "import tensorflow as tf"
   ]
  },
  {
   "cell_type": "markdown",
   "id": "bbd55c6c-3a0a-4c4f-a8cb-143745150d10",
   "metadata": {},
   "source": [
    "## Loading the MNIST Dataset\n",
    "\n",
    "Before we proceed, let's load the MNIST dataset. MNIST is a classic dataset of handwritten digits, commonly used for training various image classification algorithms.\n",
    "\n",
    "We'll use the `tf.keras.datasets.mnist` module to load the dataset. It consists of a training set of 60,000 examples and a test set of 10,000 examples, each image being 28x28 pixels.\n",
    "\n",
    "We'll then split the dataset into training and testing sets, along with their corresponding labels.\n"
   ]
  },
  {
   "cell_type": "code",
   "execution_count": 3,
   "id": "fc41f77e-91fb-4181-aaca-997daffc65c8",
   "metadata": {},
   "outputs": [],
   "source": [
    "mnist = tf.keras.datasets.mnist\n",
    "(x_train,y_train),(x_test,y_test) = mnist.load_data()"
   ]
  },
  {
   "cell_type": "markdown",
   "id": "9304d011-30d5-49d5-9b82-d4c837e309ba",
   "metadata": {},
   "source": [
    "## Preprocessing: Normalizing the Data\n",
    "\n",
    "Before training our model, it's essential to preprocess the data. One common preprocessing step for image data is normalization. Normalization ensures that each feature (pixel in this case) has a similar scale, which can help improve convergence during training.\n",
    "\n",
    "Here, we'll normalize the pixel values of the training and testing sets using `tf.keras.utils.normalize` along the axis 1, which corresponds to normalizing each image independently.\n"
   ]
  },
  {
   "cell_type": "code",
   "execution_count": 4,
   "id": "90a4e160-0fd8-494d-8014-32ae5e892b50",
   "metadata": {},
   "outputs": [],
   "source": [
    "x_train = tf.keras.utils.normalize(x_train, axis=1)\n",
    "x_test = tf.keras.utils.normalize(x_test, axis=1)"
   ]
  },
  {
   "cell_type": "markdown",
   "id": "3f5ec145-9af7-45b9-b3d1-f544b7fc962b",
   "metadata": {},
   "source": [
    "## Building the Neural Network Model\n",
    "\n",
    "Now, let's define our neural network model architecture using TensorFlow's Keras API. We'll create a sequential model, which allows us to stack layers sequentially.\n",
    "\n",
    "1. **Flatten Layer**: This layer converts the input data into a one-dimensional array (flattens the input). We specify the input shape as (28, 28) since each image in the MNIST dataset is 28x28 pixels.\n",
    "2. **Dense Layers**: These are fully connected layers. We have two dense layers with 128 units each and ReLU activation function. The ReLU (Rectified Linear Unit) activation function introduces non-linearity to the model.\n",
    "3. **Output Layer**: This is the final layer with 10 units (one for each digit) and softmax activation function. Softmax converts the raw predictions into probabilities, making it suitable for multi-class classification tasks.\n"
   ]
  },
  {
   "cell_type": "code",
   "execution_count": 41,
   "id": "8ebc2b1d-ac21-48a3-af99-96deb4107684",
   "metadata": {},
   "outputs": [],
   "source": [
    "model = tf.keras.models.Sequential()\n",
    "model.add(tf.keras.Input(shape=(28,28)))\n",
    "model.add(tf.keras.layers.Flatten())\n",
    "model.add(tf.keras.layers.Dense(128,activation='relu'))\n",
    "model.add(tf.keras.layers.Dense(128,activation='relu'))\n",
    "model.add(tf.keras.layers.Dense(10,activation='softmax'))"
   ]
  },
  {
   "cell_type": "markdown",
   "id": "e3803df1-c11b-4ae9-ad04-09ea6389fef5",
   "metadata": {},
   "source": [
    "## Compiling and Training the Model\n",
    "\n",
    "Before training the model, we need to compile it. Compilation involves specifying the optimizer, loss function, and evaluation metrics.\n",
    "\n",
    "- **Optimizer**: We're using Adam optimizer, which is an extension to stochastic gradient descent and is widely used in deep learning models.\n",
    "- **Loss Function**: Since we're dealing with a classification task and our labels are integers, we'll use `sparse_categorical_crossentropy` as the loss function.\n",
    "- **Metrics**: We're interested in monitoring the accuracy of our model during training.\n",
    "\n",
    "Once the model is compiled, we'll train it using the training data (`x_train` and `y_train`) for a specified number of epochs.\n"
   ]
  },
  {
   "cell_type": "code",
   "execution_count": 42,
   "id": "09da7ff3-fd10-4faa-836c-b19772ed8280",
   "metadata": {},
   "outputs": [
    {
     "name": "stdout",
     "output_type": "stream",
     "text": [
      "Epoch 1/8\n",
      "\u001b[1m1875/1875\u001b[0m \u001b[32m━━━━━━━━━━━━━━━━━━━━\u001b[0m\u001b[37m\u001b[0m \u001b[1m5s\u001b[0m 2ms/step - accuracy: 0.8680 - loss: 0.4744\n",
      "Epoch 2/8\n",
      "\u001b[1m1875/1875\u001b[0m \u001b[32m━━━━━━━━━━━━━━━━━━━━\u001b[0m\u001b[37m\u001b[0m \u001b[1m4s\u001b[0m 2ms/step - accuracy: 0.9644 - loss: 0.1155\n",
      "Epoch 3/8\n",
      "\u001b[1m1875/1875\u001b[0m \u001b[32m━━━━━━━━━━━━━━━━━━━━\u001b[0m\u001b[37m\u001b[0m \u001b[1m4s\u001b[0m 2ms/step - accuracy: 0.9775 - loss: 0.0726\n",
      "Epoch 4/8\n",
      "\u001b[1m1875/1875\u001b[0m \u001b[32m━━━━━━━━━━━━━━━━━━━━\u001b[0m\u001b[37m\u001b[0m \u001b[1m4s\u001b[0m 2ms/step - accuracy: 0.9831 - loss: 0.0522\n",
      "Epoch 5/8\n",
      "\u001b[1m1875/1875\u001b[0m \u001b[32m━━━━━━━━━━━━━━━━━━━━\u001b[0m\u001b[37m\u001b[0m \u001b[1m4s\u001b[0m 2ms/step - accuracy: 0.9886 - loss: 0.0345\n",
      "Epoch 6/8\n",
      "\u001b[1m1875/1875\u001b[0m \u001b[32m━━━━━━━━━━━━━━━━━━━━\u001b[0m\u001b[37m\u001b[0m \u001b[1m4s\u001b[0m 2ms/step - accuracy: 0.9913 - loss: 0.0274\n",
      "Epoch 7/8\n",
      "\u001b[1m1875/1875\u001b[0m \u001b[32m━━━━━━━━━━━━━━━━━━━━\u001b[0m\u001b[37m\u001b[0m \u001b[1m4s\u001b[0m 2ms/step - accuracy: 0.9919 - loss: 0.0240\n",
      "Epoch 8/8\n",
      "\u001b[1m1875/1875\u001b[0m \u001b[32m━━━━━━━━━━━━━━━━━━━━\u001b[0m\u001b[37m\u001b[0m \u001b[1m5s\u001b[0m 2ms/step - accuracy: 0.9929 - loss: 0.0198\n"
     ]
    },
    {
     "data": {
      "text/plain": [
       "<keras.src.callbacks.history.History at 0x22ed5670610>"
      ]
     },
     "execution_count": 42,
     "metadata": {},
     "output_type": "execute_result"
    }
   ],
   "source": [
    "model.compile(optimizer='adam', loss='sparse_categorical_crossentropy', metrics=['accuracy'])\n",
    "model.fit(x_train,y_train,epochs=8)"
   ]
  },
  {
   "cell_type": "markdown",
   "id": "4a6fa7c7-dace-4af3-b4c7-f0c7835f081c",
   "metadata": {},
   "source": [
    "## Evaluating the Model on Test Data\n",
    "\n",
    "After training the model, it's essential to evaluate its performance on unseen data to assess its generalization ability. We'll use the test dataset (`x_test` and `y_test`) for evaluation.\n",
    "\n",
    "We'll compute the loss and accuracy of the model on the test data.\n"
   ]
  },
  {
   "cell_type": "code",
   "execution_count": 43,
   "id": "0438546e-b496-4616-aae9-dfe57af5c128",
   "metadata": {},
   "outputs": [
    {
     "name": "stdout",
     "output_type": "stream",
     "text": [
      "\u001b[1m313/313\u001b[0m \u001b[32m━━━━━━━━━━━━━━━━━━━━\u001b[0m\u001b[37m\u001b[0m \u001b[1m1s\u001b[0m 1ms/step - accuracy: 0.9722 - loss: 0.1192\n",
      "0.10019514709711075\n",
      "0.9757000207901001\n"
     ]
    }
   ],
   "source": [
    "loss, accuracy = model.evaluate(x_test,y_test)\n",
    "print(loss)\n",
    "print(accuracy)"
   ]
  },
  {
   "cell_type": "markdown",
   "id": "ad10d5c1-37f7-4ba3-8fde-7c9db39a828b",
   "metadata": {},
   "source": [
    "## Predictions on Top 5 Test Images\n",
    "\n",
    "Let's visualize the top 5 images from the test dataset and make predictions using our trained model. We'll display each image along with the predicted digit label.\n"
   ]
  },
  {
   "cell_type": "code",
   "execution_count": 46,
   "id": "163a1b1d-062f-4682-a489-98efbf2e397e",
   "metadata": {},
   "outputs": [
    {
     "data": {
      "image/png": "[encoded data removed]",
      "text/plain": [
       "<Figure size 640x480 with 1 Axes>"
      ]
     },
     "metadata": {},
     "output_type": "display_data"
    },
    {
     "name": "stdout",
     "output_type": "stream",
     "text": [
      "\u001b[1m1/1\u001b[0m \u001b[32m━━━━━━━━━━━━━━━━━━━━\u001b[0m\u001b[37m\u001b[0m \u001b[1m0s\u001b[0m 23ms/step\n",
      "This digit is probably a 7\n"
     ]
    },
    {
     "data": {
      "image/png": "[encoded data removed]",
      "text/plain": [
       "<Figure size 640x480 with 1 Axes>"
      ]
     },
     "metadata": {},
     "output_type": "display_data"
    },
    {
     "name": "stdout",
     "output_type": "stream",
     "text": [
      "\u001b[1m1/1\u001b[0m \u001b[32m━━━━━━━━━━━━━━━━━━━━\u001b[0m\u001b[37m\u001b[0m \u001b[1m0s\u001b[0m 19ms/step\n",
      "This digit is probably a 2\n"
     ]
    },
    {
     "data": {
      "image/png": "[encoded data removed]",
      "text/plain": [
       "<Figure size 640x480 with 1 Axes>"
      ]
     },
     "metadata": {},
     "output_type": "display_data"
    },
    {
     "name": "stdout",
     "output_type": "stream",
     "text": [
      "\u001b[1m1/1\u001b[0m \u001b[32m━━━━━━━━━━━━━━━━━━━━\u001b[0m\u001b[37m\u001b[0m \u001b[1m0s\u001b[0m 21ms/step\n",
      "This digit is probably a 1\n"
     ]
    },
    {
     "data": {
      "image/png": "[encoded data removed]",
      "text/plain": [
       "<Figure size 640x480 with 1 Axes>"
      ]
     },
     "metadata": {},
     "output_type": "display_data"
    },
    {
     "name": "stdout",
     "output_type": "stream",
     "text": [
      "\u001b[1m1/1\u001b[0m \u001b[32m━━━━━━━━━━━━━━━━━━━━\u001b[0m\u001b[37m\u001b[0m \u001b[1m0s\u001b[0m 19ms/step\n",
      "This digit is probably a 0\n"
     ]
    },
    {
     "data": {
      "image/png": "[encoded data removed]",
      "text/plain": [
       "<Figure size 640x480 with 1 Axes>"
      ]
     },
     "metadata": {},
     "output_type": "display_data"
    },
    {
     "name": "stdout",
     "output_type": "stream",
     "text": [
      "\u001b[1m1/1\u001b[0m \u001b[32m━━━━━━━━━━━━━━━━━━━━\u001b[0m\u001b[37m\u001b[0m \u001b[1m0s\u001b[0m 25ms/step\n",
      "This digit is probably a 4\n"
     ]
    }
   ],
   "source": [
    "top_5_test_data = x_test[:5]\n",
    "for i in range(5):\n",
    "    plt.imshow(top_5_test_data[i], cmap='gray')\n",
    "    plt.title(f\"Image {i + 1}\")\n",
    "    plt.axis('off')\n",
    "    plt.show()\n",
    "    prediction = model.predict(np.expand_dims(top_5_test_data[i], axis=0))\n",
    "    predicted_label = np.argmax(prediction)\n",
    "    print(f\"This digit is probably a {predicted_label}\")"
   ]
  },
  {
   "cell_type": "code",
   "execution_count": null,
   "id": "049cd25a-0c92-4b1b-b4fe-e1c6bd1517ee",
   "metadata": {},
   "outputs": [],
   "source": []
  }
 ],
 "metadata": {
  "kernelspec": {
   "display_name": "Python 3 (ipykernel)",
   "language": "python",
   "name": "python3"
  },
  "language_info": {
   "codemirror_mode": {
    "name": "ipython",
    "version": 3
   },
   "file_extension": ".py",
   "mimetype": "text/x-python",
   "name": "python",
   "nbconvert_exporter": "python",
   "pygments_lexer": "ipython3",
   "version": "3.11.8"
  }
 },
 "nbformat": 4,
 "nbformat_minor": 5
}
